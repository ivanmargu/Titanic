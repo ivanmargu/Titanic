{
 "cells": [
  {
   "cell_type": "code",
   "execution_count": 4,
   "id": "8216603c-a712-4a35-971f-b74ac406dc1f",
   "metadata": {},
   "outputs": [],
   "source": [
    "import seaborn as sns\n",
    "import pandas as pd\n",
    "import numpy as np\n",
    "import matplotlib.pyplot as plt"
   ]
  },
  {
   "cell_type": "markdown",
   "id": "80b809ed-bc04-4615-b157-aa5e1183e5d8",
   "metadata": {},
   "source": [
    "# Regresión Logística"
   ]
  },
  {
   "cell_type": "markdown",
   "id": "69282111-dab9-4f8c-8518-40e4e2e10dd7",
   "metadata": {},
   "source": [
    "## Titanic\n",
    "Vamos a crear un modelo que prediga la probabilidad de supervivencia de los pasajeros. Los datos están disponibles en:\n",
    "\n",
    "https://www.kaggle.com/c/titanic/data?select=train.csv"
   ]
  },
  {
   "cell_type": "markdown",
   "id": "dc905247-e525-4036-8205-de961aabf0c4",
   "metadata": {},
   "source": [
    "0. Importar data de training y testing. Agregarle a la tabla de testing la columna survived proveniente de la tabla gender_submission"
   ]
  },
  {
   "cell_type": "code",
   "execution_count": 87,
   "id": "a617b09c-dc05-4b49-9576-e722b5196a07",
   "metadata": {},
   "outputs": [],
   "source": [
    "training = pd.read_csv(\"train.csv\")\n",
    "testing = pd.read_csv(\"test.csv\")\n",
    "gender = pd.read_csv(\"gender_submission.csv\")"
   ]
  },
  {
   "cell_type": "code",
   "execution_count": 89,
   "id": "703429b7-a053-47d1-a9f6-5bfe4e54be31",
   "metadata": {},
   "outputs": [],
   "source": [
    "testing = testing.merge(gender, on='PassengerId')"
   ]
  },
  {
   "cell_type": "code",
   "execution_count": 13,
   "id": "9e068273-234b-470b-b6bc-4e012655bd58",
   "metadata": {},
   "outputs": [
    {
     "data": {
      "text/html": [
       "<div>\n",
       "<style scoped>\n",
       "    .dataframe tbody tr th:only-of-type {\n",
       "        vertical-align: middle;\n",
       "    }\n",
       "\n",
       "    .dataframe tbody tr th {\n",
       "        vertical-align: top;\n",
       "    }\n",
       "\n",
       "    .dataframe thead th {\n",
       "        text-align: right;\n",
       "    }\n",
       "</style>\n",
       "<table border=\"1\" class=\"dataframe\">\n",
       "  <thead>\n",
       "    <tr style=\"text-align: right;\">\n",
       "      <th></th>\n",
       "      <th>PassengerId</th>\n",
       "      <th>Pclass</th>\n",
       "      <th>Name</th>\n",
       "      <th>Sex</th>\n",
       "      <th>Age</th>\n",
       "      <th>SibSp</th>\n",
       "      <th>Parch</th>\n",
       "      <th>Ticket</th>\n",
       "      <th>Fare</th>\n",
       "      <th>Cabin</th>\n",
       "      <th>Embarked</th>\n",
       "      <th>Survived</th>\n",
       "    </tr>\n",
       "  </thead>\n",
       "  <tbody>\n",
       "    <tr>\n",
       "      <th>0</th>\n",
       "      <td>892</td>\n",
       "      <td>3</td>\n",
       "      <td>Kelly, Mr. James</td>\n",
       "      <td>male</td>\n",
       "      <td>34.5</td>\n",
       "      <td>0</td>\n",
       "      <td>0</td>\n",
       "      <td>330911</td>\n",
       "      <td>7.8292</td>\n",
       "      <td>NaN</td>\n",
       "      <td>Q</td>\n",
       "      <td>0</td>\n",
       "    </tr>\n",
       "    <tr>\n",
       "      <th>1</th>\n",
       "      <td>893</td>\n",
       "      <td>3</td>\n",
       "      <td>Wilkes, Mrs. James (Ellen Needs)</td>\n",
       "      <td>female</td>\n",
       "      <td>47.0</td>\n",
       "      <td>1</td>\n",
       "      <td>0</td>\n",
       "      <td>363272</td>\n",
       "      <td>7.0000</td>\n",
       "      <td>NaN</td>\n",
       "      <td>S</td>\n",
       "      <td>1</td>\n",
       "    </tr>\n",
       "    <tr>\n",
       "      <th>2</th>\n",
       "      <td>894</td>\n",
       "      <td>2</td>\n",
       "      <td>Myles, Mr. Thomas Francis</td>\n",
       "      <td>male</td>\n",
       "      <td>62.0</td>\n",
       "      <td>0</td>\n",
       "      <td>0</td>\n",
       "      <td>240276</td>\n",
       "      <td>9.6875</td>\n",
       "      <td>NaN</td>\n",
       "      <td>Q</td>\n",
       "      <td>0</td>\n",
       "    </tr>\n",
       "    <tr>\n",
       "      <th>3</th>\n",
       "      <td>895</td>\n",
       "      <td>3</td>\n",
       "      <td>Wirz, Mr. Albert</td>\n",
       "      <td>male</td>\n",
       "      <td>27.0</td>\n",
       "      <td>0</td>\n",
       "      <td>0</td>\n",
       "      <td>315154</td>\n",
       "      <td>8.6625</td>\n",
       "      <td>NaN</td>\n",
       "      <td>S</td>\n",
       "      <td>0</td>\n",
       "    </tr>\n",
       "    <tr>\n",
       "      <th>4</th>\n",
       "      <td>896</td>\n",
       "      <td>3</td>\n",
       "      <td>Hirvonen, Mrs. Alexander (Helga E Lindqvist)</td>\n",
       "      <td>female</td>\n",
       "      <td>22.0</td>\n",
       "      <td>1</td>\n",
       "      <td>1</td>\n",
       "      <td>3101298</td>\n",
       "      <td>12.2875</td>\n",
       "      <td>NaN</td>\n",
       "      <td>S</td>\n",
       "      <td>1</td>\n",
       "    </tr>\n",
       "  </tbody>\n",
       "</table>\n",
       "</div>"
      ],
      "text/plain": [
       "   PassengerId  Pclass                                          Name     Sex  \\\n",
       "0          892       3                              Kelly, Mr. James    male   \n",
       "1          893       3              Wilkes, Mrs. James (Ellen Needs)  female   \n",
       "2          894       2                     Myles, Mr. Thomas Francis    male   \n",
       "3          895       3                              Wirz, Mr. Albert    male   \n",
       "4          896       3  Hirvonen, Mrs. Alexander (Helga E Lindqvist)  female   \n",
       "\n",
       "    Age  SibSp  Parch   Ticket     Fare Cabin Embarked  Survived  \n",
       "0  34.5      0      0   330911   7.8292   NaN        Q         0  \n",
       "1  47.0      1      0   363272   7.0000   NaN        S         1  \n",
       "2  62.0      0      0   240276   9.6875   NaN        Q         0  \n",
       "3  27.0      0      0   315154   8.6625   NaN        S         0  \n",
       "4  22.0      1      1  3101298  12.2875   NaN        S         1  "
      ]
     },
     "execution_count": 13,
     "metadata": {},
     "output_type": "execute_result"
    }
   ],
   "source": [
    "testing.head()"
   ]
  },
  {
   "cell_type": "code",
   "execution_count": 15,
   "id": "8aa49eef-2075-4503-b7bb-1d43edd792fd",
   "metadata": {},
   "outputs": [
    {
     "data": {
      "text/html": [
       "<div>\n",
       "<style scoped>\n",
       "    .dataframe tbody tr th:only-of-type {\n",
       "        vertical-align: middle;\n",
       "    }\n",
       "\n",
       "    .dataframe tbody tr th {\n",
       "        vertical-align: top;\n",
       "    }\n",
       "\n",
       "    .dataframe thead th {\n",
       "        text-align: right;\n",
       "    }\n",
       "</style>\n",
       "<table border=\"1\" class=\"dataframe\">\n",
       "  <thead>\n",
       "    <tr style=\"text-align: right;\">\n",
       "      <th></th>\n",
       "      <th>PassengerId</th>\n",
       "      <th>Survived</th>\n",
       "      <th>Pclass</th>\n",
       "      <th>Name</th>\n",
       "      <th>Sex</th>\n",
       "      <th>Age</th>\n",
       "      <th>SibSp</th>\n",
       "      <th>Parch</th>\n",
       "      <th>Ticket</th>\n",
       "      <th>Fare</th>\n",
       "      <th>Cabin</th>\n",
       "      <th>Embarked</th>\n",
       "    </tr>\n",
       "  </thead>\n",
       "  <tbody>\n",
       "    <tr>\n",
       "      <th>0</th>\n",
       "      <td>1</td>\n",
       "      <td>0</td>\n",
       "      <td>3</td>\n",
       "      <td>Braund, Mr. Owen Harris</td>\n",
       "      <td>male</td>\n",
       "      <td>22.0</td>\n",
       "      <td>1</td>\n",
       "      <td>0</td>\n",
       "      <td>A/5 21171</td>\n",
       "      <td>7.2500</td>\n",
       "      <td>NaN</td>\n",
       "      <td>S</td>\n",
       "    </tr>\n",
       "    <tr>\n",
       "      <th>1</th>\n",
       "      <td>2</td>\n",
       "      <td>1</td>\n",
       "      <td>1</td>\n",
       "      <td>Cumings, Mrs. John Bradley (Florence Briggs Th...</td>\n",
       "      <td>female</td>\n",
       "      <td>38.0</td>\n",
       "      <td>1</td>\n",
       "      <td>0</td>\n",
       "      <td>PC 17599</td>\n",
       "      <td>71.2833</td>\n",
       "      <td>C85</td>\n",
       "      <td>C</td>\n",
       "    </tr>\n",
       "    <tr>\n",
       "      <th>2</th>\n",
       "      <td>3</td>\n",
       "      <td>1</td>\n",
       "      <td>3</td>\n",
       "      <td>Heikkinen, Miss. Laina</td>\n",
       "      <td>female</td>\n",
       "      <td>26.0</td>\n",
       "      <td>0</td>\n",
       "      <td>0</td>\n",
       "      <td>STON/O2. 3101282</td>\n",
       "      <td>7.9250</td>\n",
       "      <td>NaN</td>\n",
       "      <td>S</td>\n",
       "    </tr>\n",
       "    <tr>\n",
       "      <th>3</th>\n",
       "      <td>4</td>\n",
       "      <td>1</td>\n",
       "      <td>1</td>\n",
       "      <td>Futrelle, Mrs. Jacques Heath (Lily May Peel)</td>\n",
       "      <td>female</td>\n",
       "      <td>35.0</td>\n",
       "      <td>1</td>\n",
       "      <td>0</td>\n",
       "      <td>113803</td>\n",
       "      <td>53.1000</td>\n",
       "      <td>C123</td>\n",
       "      <td>S</td>\n",
       "    </tr>\n",
       "    <tr>\n",
       "      <th>4</th>\n",
       "      <td>5</td>\n",
       "      <td>0</td>\n",
       "      <td>3</td>\n",
       "      <td>Allen, Mr. William Henry</td>\n",
       "      <td>male</td>\n",
       "      <td>35.0</td>\n",
       "      <td>0</td>\n",
       "      <td>0</td>\n",
       "      <td>373450</td>\n",
       "      <td>8.0500</td>\n",
       "      <td>NaN</td>\n",
       "      <td>S</td>\n",
       "    </tr>\n",
       "  </tbody>\n",
       "</table>\n",
       "</div>"
      ],
      "text/plain": [
       "   PassengerId  Survived  Pclass  \\\n",
       "0            1         0       3   \n",
       "1            2         1       1   \n",
       "2            3         1       3   \n",
       "3            4         1       1   \n",
       "4            5         0       3   \n",
       "\n",
       "                                                Name     Sex   Age  SibSp  \\\n",
       "0                            Braund, Mr. Owen Harris    male  22.0      1   \n",
       "1  Cumings, Mrs. John Bradley (Florence Briggs Th...  female  38.0      1   \n",
       "2                             Heikkinen, Miss. Laina  female  26.0      0   \n",
       "3       Futrelle, Mrs. Jacques Heath (Lily May Peel)  female  35.0      1   \n",
       "4                           Allen, Mr. William Henry    male  35.0      0   \n",
       "\n",
       "   Parch            Ticket     Fare Cabin Embarked  \n",
       "0      0         A/5 21171   7.2500   NaN        S  \n",
       "1      0          PC 17599  71.2833   C85        C  \n",
       "2      0  STON/O2. 3101282   7.9250   NaN        S  \n",
       "3      0            113803  53.1000  C123        S  \n",
       "4      0            373450   8.0500   NaN        S  "
      ]
     },
     "execution_count": 15,
     "metadata": {},
     "output_type": "execute_result"
    }
   ],
   "source": [
    "training.head()"
   ]
  },
  {
   "cell_type": "markdown",
   "id": "dd9d9e37-fb5d-4fbc-9d35-d874e4af7097",
   "metadata": {},
   "source": [
    "1. Buscar columnas con valores nulos y cantidad de nulos en cada una. Fijarse el porcentaje de los datos nulos que representan sobre el total."
   ]
  },
  {
   "cell_type": "code",
   "execution_count": 17,
   "id": "2bc2336c-1557-4b8a-8ff3-849bacee99e6",
   "metadata": {},
   "outputs": [
    {
     "data": {
      "text/plain": [
       "PassengerId     0.000000\n",
       "Survived        0.000000\n",
       "Pclass          0.000000\n",
       "Name            0.000000\n",
       "Sex             0.000000\n",
       "Age            19.865320\n",
       "SibSp           0.000000\n",
       "Parch           0.000000\n",
       "Ticket          0.000000\n",
       "Fare            0.000000\n",
       "Cabin          77.104377\n",
       "Embarked        0.224467\n",
       "dtype: float64"
      ]
     },
     "execution_count": 17,
     "metadata": {},
     "output_type": "execute_result"
    }
   ],
   "source": [
    "nulos_training = training.isnull().sum()\n",
    "nulos_training/ len(training) *100"
   ]
  },
  {
   "cell_type": "code",
   "execution_count": 19,
   "id": "ee8daad9-ad17-4028-b1ce-289b3a4096bd",
   "metadata": {},
   "outputs": [
    {
     "data": {
      "text/plain": [
       "PassengerId     0.000000\n",
       "Pclass          0.000000\n",
       "Name            0.000000\n",
       "Sex             0.000000\n",
       "Age            20.574163\n",
       "SibSp           0.000000\n",
       "Parch           0.000000\n",
       "Ticket          0.000000\n",
       "Fare            0.239234\n",
       "Cabin          78.229665\n",
       "Embarked        0.000000\n",
       "Survived        0.000000\n",
       "dtype: float64"
      ]
     },
     "execution_count": 19,
     "metadata": {},
     "output_type": "execute_result"
    }
   ],
   "source": [
    "nulos_testing = testing.isnull().sum()\n",
    "nulos_testing / len(testing) *100"
   ]
  },
  {
   "cell_type": "code",
   "execution_count": null,
   "id": "e23fcd4c-e1be-4edf-a935-9ceddfbaa852",
   "metadata": {},
   "outputs": [],
   "source": []
  },
  {
   "cell_type": "markdown",
   "id": "8d3d80cf-8f51-4d95-ad81-cee2e6caad39",
   "metadata": {},
   "source": [
    "2. En base al resultado anterior. ¿Cuales columnas consideran que tienen sentido completar y cuales se deberían eliminar? Eliminar la que corresponda de la tabla de test y de train."
   ]
  },
  {
   "cell_type": "code",
   "execution_count": 91,
   "id": "dbbc0168-132c-48a0-bfbe-0e51ae5a61ae",
   "metadata": {},
   "outputs": [],
   "source": [
    "training.drop(columns=['Cabin'], inplace=True)\n",
    "testing.drop(columns=['Cabin'], inplace=True)"
   ]
  },
  {
   "cell_type": "code",
   "execution_count": 93,
   "id": "1af728db-a3f6-4642-b58b-19dac34eec1d",
   "metadata": {
    "scrolled": true
   },
   "outputs": [
    {
     "data": {
      "text/html": [
       "<div>\n",
       "<style scoped>\n",
       "    .dataframe tbody tr th:only-of-type {\n",
       "        vertical-align: middle;\n",
       "    }\n",
       "\n",
       "    .dataframe tbody tr th {\n",
       "        vertical-align: top;\n",
       "    }\n",
       "\n",
       "    .dataframe thead th {\n",
       "        text-align: right;\n",
       "    }\n",
       "</style>\n",
       "<table border=\"1\" class=\"dataframe\">\n",
       "  <thead>\n",
       "    <tr style=\"text-align: right;\">\n",
       "      <th></th>\n",
       "      <th>PassengerId</th>\n",
       "      <th>Pclass</th>\n",
       "      <th>Name</th>\n",
       "      <th>Sex</th>\n",
       "      <th>Age</th>\n",
       "      <th>SibSp</th>\n",
       "      <th>Parch</th>\n",
       "      <th>Ticket</th>\n",
       "      <th>Fare</th>\n",
       "      <th>Embarked</th>\n",
       "      <th>Survived</th>\n",
       "    </tr>\n",
       "  </thead>\n",
       "  <tbody>\n",
       "    <tr>\n",
       "      <th>0</th>\n",
       "      <td>892</td>\n",
       "      <td>3</td>\n",
       "      <td>Kelly, Mr. James</td>\n",
       "      <td>male</td>\n",
       "      <td>34.5</td>\n",
       "      <td>0</td>\n",
       "      <td>0</td>\n",
       "      <td>330911</td>\n",
       "      <td>7.8292</td>\n",
       "      <td>Q</td>\n",
       "      <td>0</td>\n",
       "    </tr>\n",
       "    <tr>\n",
       "      <th>1</th>\n",
       "      <td>893</td>\n",
       "      <td>3</td>\n",
       "      <td>Wilkes, Mrs. James (Ellen Needs)</td>\n",
       "      <td>female</td>\n",
       "      <td>47.0</td>\n",
       "      <td>1</td>\n",
       "      <td>0</td>\n",
       "      <td>363272</td>\n",
       "      <td>7.0000</td>\n",
       "      <td>S</td>\n",
       "      <td>1</td>\n",
       "    </tr>\n",
       "    <tr>\n",
       "      <th>2</th>\n",
       "      <td>894</td>\n",
       "      <td>2</td>\n",
       "      <td>Myles, Mr. Thomas Francis</td>\n",
       "      <td>male</td>\n",
       "      <td>62.0</td>\n",
       "      <td>0</td>\n",
       "      <td>0</td>\n",
       "      <td>240276</td>\n",
       "      <td>9.6875</td>\n",
       "      <td>Q</td>\n",
       "      <td>0</td>\n",
       "    </tr>\n",
       "    <tr>\n",
       "      <th>3</th>\n",
       "      <td>895</td>\n",
       "      <td>3</td>\n",
       "      <td>Wirz, Mr. Albert</td>\n",
       "      <td>male</td>\n",
       "      <td>27.0</td>\n",
       "      <td>0</td>\n",
       "      <td>0</td>\n",
       "      <td>315154</td>\n",
       "      <td>8.6625</td>\n",
       "      <td>S</td>\n",
       "      <td>0</td>\n",
       "    </tr>\n",
       "    <tr>\n",
       "      <th>4</th>\n",
       "      <td>896</td>\n",
       "      <td>3</td>\n",
       "      <td>Hirvonen, Mrs. Alexander (Helga E Lindqvist)</td>\n",
       "      <td>female</td>\n",
       "      <td>22.0</td>\n",
       "      <td>1</td>\n",
       "      <td>1</td>\n",
       "      <td>3101298</td>\n",
       "      <td>12.2875</td>\n",
       "      <td>S</td>\n",
       "      <td>1</td>\n",
       "    </tr>\n",
       "  </tbody>\n",
       "</table>\n",
       "</div>"
      ],
      "text/plain": [
       "   PassengerId  Pclass                                          Name     Sex  \\\n",
       "0          892       3                              Kelly, Mr. James    male   \n",
       "1          893       3              Wilkes, Mrs. James (Ellen Needs)  female   \n",
       "2          894       2                     Myles, Mr. Thomas Francis    male   \n",
       "3          895       3                              Wirz, Mr. Albert    male   \n",
       "4          896       3  Hirvonen, Mrs. Alexander (Helga E Lindqvist)  female   \n",
       "\n",
       "    Age  SibSp  Parch   Ticket     Fare Embarked  Survived  \n",
       "0  34.5      0      0   330911   7.8292        Q         0  \n",
       "1  47.0      1      0   363272   7.0000        S         1  \n",
       "2  62.0      0      0   240276   9.6875        Q         0  \n",
       "3  27.0      0      0   315154   8.6625        S         0  \n",
       "4  22.0      1      1  3101298  12.2875        S         1  "
      ]
     },
     "execution_count": 93,
     "metadata": {},
     "output_type": "execute_result"
    }
   ],
   "source": [
    "testing.head()"
   ]
  },
  {
   "cell_type": "markdown",
   "id": "29588450-5c78-4dba-af9b-bc2a37c561c2",
   "metadata": {},
   "source": [
    "3. Completar valores nulos con el criterio que considres correcto en cada una de las columnas (que tengan sentido completar). Esto debe hacerse tanto en la tabla de training como la de testing (con el mismo criterio en ambas).\n",
    "\n",
    "   Verificar cómo se distribuyen los valores de cada columna con un gráfico previamente para tener más herramientas en la decisión"
   ]
  },
  {
   "cell_type": "code",
   "execution_count": null,
   "id": "d320bb1a-0751-4371-99a1-553379f28958",
   "metadata": {},
   "outputs": [],
   "source": [
    "sns.histplot(\n",
    "    data = training,\n",
    "    x = \"Age\",\n",
    "    hue = \"Pclass\",\n",
    "    palette=\"Set1\"\n",
    ")"
   ]
  },
  {
   "cell_type": "code",
   "execution_count": 95,
   "id": "dda972fc-296a-4ab4-b53e-a64ae7bbb555",
   "metadata": {},
   "outputs": [
    {
     "data": {
      "text/plain": [
       "Pclass  Sex   \n",
       "1       female    41.0\n",
       "        male      42.0\n",
       "2       female    24.0\n",
       "        male      28.0\n",
       "3       female    22.0\n",
       "        male      24.0\n",
       "Name: Age, dtype: float64"
      ]
     },
     "execution_count": 95,
     "metadata": {},
     "output_type": "execute_result"
    }
   ],
   "source": [
    "mediana_edad = testing.groupby(['Pclass', 'Sex'])['Age'].median()\n",
    "mediana_edad"
   ]
  },
  {
   "cell_type": "code",
   "execution_count": 97,
   "id": "ac01738d-6b21-4052-86fa-33086dd9c12e",
   "metadata": {},
   "outputs": [],
   "source": [
    "M1 = (testing.Sex == \"male\") & (testing.Pclass == 1)\n",
    "F1 = (testing.Sex == \"female\") & (testing.Pclass == 1)\n",
    "M2 = (testing.Sex == \"male\") & (testing.Pclass == 2)\n",
    "F2 = (testing.Sex == \"female\") & (testing.Pclass == 2)\n",
    "M3 = (testing.Sex == \"male\") & (testing.Pclass == 3)\n",
    "F3 = (testing.Sex == \"female\") & (testing.Pclass == 3)"
   ]
  },
  {
   "cell_type": "code",
   "execution_count": 99,
   "id": "4ad9acee-8a6b-4ae2-8c4e-8b7a787f3c77",
   "metadata": {},
   "outputs": [],
   "source": [
    "testing.loc[M1, \"Age\"] = testing.loc[M1,\"Age\"].fillna(mediana_edad.iloc[1])\n",
    "testing.loc[F1, \"Age\"] = testing.loc[F1,\"Age\"].fillna(mediana_edad.iloc[0])\n",
    "testing.loc[M2, \"Age\"] = testing.loc[M2,\"Age\"].fillna(mediana_edad.iloc[3])\n",
    "testing.loc[F2, \"Age\"] = testing.loc[F2,\"Age\"].fillna(mediana_edad.iloc[2])\n",
    "testing.loc[M3, \"Age\"] = testing.loc[M3,\"Age\"].fillna(mediana_edad.iloc[5])\n",
    "testing.loc[F3, \"Age\"] = testing.loc[F3,\"Age\"].fillna(mediana_edad.iloc[4])"
   ]
  },
  {
   "cell_type": "code",
   "execution_count": 33,
   "id": "637a7bb2-7522-4c4c-a59a-cb5f9e674a66",
   "metadata": {},
   "outputs": [
    {
     "data": {
      "text/plain": [
       "0"
      ]
     },
     "execution_count": 33,
     "metadata": {},
     "output_type": "execute_result"
    }
   ],
   "source": [
    "testing.Age.isnull().sum()"
   ]
  },
  {
   "cell_type": "code",
   "execution_count": 101,
   "id": "000b4b5f-aeb6-4be2-82a3-faf9ee79487d",
   "metadata": {},
   "outputs": [
    {
     "data": {
      "text/plain": [
       "Pclass  Sex   \n",
       "1       female    35.0\n",
       "        male      40.0\n",
       "2       female    28.0\n",
       "        male      30.0\n",
       "3       female    21.5\n",
       "        male      25.0\n",
       "Name: Age, dtype: float64"
      ]
     },
     "execution_count": 101,
     "metadata": {},
     "output_type": "execute_result"
    }
   ],
   "source": [
    "mediana_training = training.groupby(['Pclass', 'Sex'])['Age'].median()\n",
    "mediana_training"
   ]
  },
  {
   "cell_type": "code",
   "execution_count": 103,
   "id": "6cce7e89-bba4-4756-9757-d72ca6a5f28a",
   "metadata": {},
   "outputs": [],
   "source": [
    "TM1 = (training.Sex == \"male\") & (training.Pclass == 1)\n",
    "TF1 = (training.Sex == \"female\") & (training.Pclass == 1)\n",
    "TM2 = (training.Sex == \"male\") & (training.Pclass == 2)\n",
    "TF2 = (training.Sex == \"female\") & (training.Pclass == 2)\n",
    "TM3 = (training.Sex == \"male\") & (training.Pclass == 3)\n",
    "TF3 = (training.Sex == \"female\") & (training.Pclass == 3)"
   ]
  },
  {
   "cell_type": "code",
   "execution_count": 105,
   "id": "ad80563a-41e5-4e2a-93fc-cedc612834a9",
   "metadata": {},
   "outputs": [],
   "source": [
    "training.loc[TM1, \"Age\"] = training.loc[TM1,\"Age\"].fillna(mediana_training.iloc[1])\n",
    "training.loc[TF1, \"Age\"] = training.loc[TF1,\"Age\"].fillna(mediana_training.iloc[0])\n",
    "training.loc[TM2, \"Age\"] = training.loc[TM2,\"Age\"].fillna(mediana_training.iloc[3])\n",
    "training.loc[TF2, \"Age\"] = training.loc[TF2,\"Age\"].fillna(mediana_training.iloc[2])\n",
    "training.loc[TM3, \"Age\"] = training.loc[TM3,\"Age\"].fillna(mediana_training.iloc[5])\n",
    "training.loc[TF3, \"Age\"] = training.loc[TF3,\"Age\"].fillna(mediana_training.iloc[4])"
   ]
  },
  {
   "cell_type": "code",
   "execution_count": 47,
   "id": "5a3792d9-259f-4aa5-84fc-951d50ca38c0",
   "metadata": {},
   "outputs": [
    {
     "data": {
      "text/plain": [
       "0"
      ]
     },
     "execution_count": 47,
     "metadata": {},
     "output_type": "execute_result"
    }
   ],
   "source": [
    "training.Age.isnull().sum()"
   ]
  },
  {
   "cell_type": "code",
   "execution_count": 49,
   "id": "8b62f282-2aae-4cac-81a7-51d5781d5afc",
   "metadata": {},
   "outputs": [
    {
     "data": {
      "text/plain": [
       "<Axes: xlabel='Fare', ylabel='Count'>"
      ]
     },
     "execution_count": 49,
     "metadata": {},
     "output_type": "execute_result"
    },
    {
     "data": {
      "image/png": "[encoded data removed]",
      "text/plain": [
       "<Figure size 640x480 with 1 Axes>"
      ]
     },
     "metadata": {},
     "output_type": "display_data"
    }
   ],
   "source": [
    "sns.histplot(\n",
    "    data = testing,\n",
    "    x = \"Fare\",\n",
    "    #hue = \"Pclass\",\n",
    "    #palette=\"Set1\"\n",
    ")"
   ]
  },
  {
   "cell_type": "code",
   "execution_count": 51,
   "id": "78e680f6-9063-4edb-a1fc-741155ae1427",
   "metadata": {},
   "outputs": [
    {
     "data": {
      "text/plain": [
       "1"
      ]
     },
     "execution_count": 51,
     "metadata": {},
     "output_type": "execute_result"
    }
   ],
   "source": [
    "testing.Fare.isnull().sum()"
   ]
  },
  {
   "cell_type": "code",
   "execution_count": 107,
   "id": "d740a5d7-086a-494d-bdea-745db7fd2d73",
   "metadata": {},
   "outputs": [],
   "source": [
    "testing.fillna(value = testing.Fare.median(), inplace = True)"
   ]
  },
  {
   "cell_type": "code",
   "execution_count": 108,
   "id": "d110404e-2406-4d63-a4c6-f68b65bbe3ba",
   "metadata": {},
   "outputs": [
    {
     "data": {
      "text/plain": [
       "<Axes: xlabel='Embarked', ylabel='Count'>"
      ]
     },
     "execution_count": 108,
     "metadata": {},
     "output_type": "execute_result"
    },
    {
     "data": {
      "image/png": "[encoded data removed]",
      "text/plain": [
       "<Figure size 640x480 with 1 Axes>"
      ]
     },
     "metadata": {},
     "output_type": "display_data"
    }
   ],
   "source": [
    "sns.histplot(\n",
    "    data = training,\n",
    "    x = \"Embarked\",\n",
    "    hue = \"Pclass\",\n",
    "    palette=\"Set1\"\n",
    ")"
   ]
  },
  {
   "cell_type": "code",
   "execution_count": 57,
   "id": "04000e79-e094-41ec-b996-a1f239efc95b",
   "metadata": {},
   "outputs": [
    {
     "data": {
      "text/plain": [
       "2"
      ]
     },
     "execution_count": 57,
     "metadata": {},
     "output_type": "execute_result"
    }
   ],
   "source": [
    "training.Embarked.isnull().sum()"
   ]
  },
  {
   "cell_type": "code",
   "execution_count": 59,
   "id": "2fe8a752-429c-4711-9a63-484ad4242cf8",
   "metadata": {},
   "outputs": [
    {
     "data": {
      "text/plain": [
       "0    S\n",
       "Name: Embarked, dtype: object"
      ]
     },
     "execution_count": 59,
     "metadata": {},
     "output_type": "execute_result"
    }
   ],
   "source": [
    "training.Embarked.mode()"
   ]
  },
  {
   "cell_type": "code",
   "execution_count": 111,
   "id": "55d2ae76-ae5d-48cc-8bf2-816c171fb160",
   "metadata": {},
   "outputs": [],
   "source": [
    "training[\"Embarked\"].fillna(\n",
    "    value = training.Embarked.mode()[0],\n",
    "    inplace= True\n",
    ")"
   ]
  },
  {
   "cell_type": "code",
   "execution_count": 113,
   "id": "a680eb9c-6aad-4ba8-8cdc-297574684c00",
   "metadata": {},
   "outputs": [
    {
     "data": {
      "text/plain": [
       "PassengerId    0\n",
       "Pclass         0\n",
       "Name           0\n",
       "Sex            0\n",
       "Age            0\n",
       "SibSp          0\n",
       "Parch          0\n",
       "Ticket         0\n",
       "Fare           0\n",
       "Embarked       0\n",
       "Survived       0\n",
       "dtype: int64"
      ]
     },
     "execution_count": 113,
     "metadata": {},
     "output_type": "execute_result"
    }
   ],
   "source": [
    "testing.isnull().sum()"
   ]
  },
  {
   "cell_type": "code",
   "execution_count": 67,
   "id": "19f40588-8b00-4960-80fb-c193245838b9",
   "metadata": {},
   "outputs": [
    {
     "data": {
      "text/plain": [
       "PassengerId    0\n",
       "Survived       0\n",
       "Pclass         0\n",
       "Name           0\n",
       "Sex            0\n",
       "Age            0\n",
       "SibSp          0\n",
       "Parch          0\n",
       "Ticket         0\n",
       "Fare           0\n",
       "Embarked       0\n",
       "dtype: int64"
      ]
     },
     "execution_count": 67,
     "metadata": {},
     "output_type": "execute_result"
    }
   ],
   "source": [
    "training.isnull().sum()"
   ]
  },
  {
   "cell_type": "markdown",
   "id": "d3ee6bd0-64c0-4ac8-b85c-da016cf66099",
   "metadata": {},
   "source": [
    "4. Realizar análisis exploratorio. Graficar las personas que sobrevivieron por:\n",
    "    - Clase (Pclass)\n",
    "    - Sexo (Sex)\n",
    "    - Costo de boleto (Fare)"
   ]
  },
  {
   "cell_type": "code",
   "execution_count": 69,
   "id": "cfa4bf5e-f642-45fa-abc9-847dd564c9e2",
   "metadata": {},
   "outputs": [
    {
     "data": {
      "image/png": "[encoded data removed]",
      "text/plain": [
       "<Figure size 1000x600 with 1 Axes>"
      ]
     },
     "metadata": {},
     "output_type": "display_data"
    }
   ],
   "source": [
    "plt.figure(figsize=(10, 6))\n",
    "sns.countplot(data=training, x='Pclass', hue='Survived')\n",
    "plt.title('Supervivencia por Clase')\n",
    "plt.xlabel('Clase')\n",
    "plt.ylabel('Cantidad de Personas')\n",
    "plt.legend(title='Sobrevivió', labels=['No', 'Sí'])\n",
    "plt.show()"
   ]
  },
  {
   "cell_type": "code",
   "execution_count": 71,
   "id": "b039726b-1c7b-4b56-8c41-8ace3048c0ed",
   "metadata": {},
   "outputs": [
    {
     "data": {
      "image/png": "[encoded data removed]",
      "text/plain": [
       "<Figure size 1000x600 with 1 Axes>"
      ]
     },
     "metadata": {},
     "output_type": "display_data"
    }
   ],
   "source": [
    "plt.figure(figsize=(10, 6))\n",
    "sns.countplot(data=training, x='Sex', hue='Survived')\n",
    "plt.title('Supervivencia por Sexo')\n",
    "plt.xlabel('Clase')\n",
    "plt.ylabel('Cantidad de Personas')\n",
    "plt.legend(title='Sobrevivió', labels=['No', 'Sí'])\n",
    "plt.show()"
   ]
  },
  {
   "cell_type": "code",
   "execution_count": 74,
   "id": "f2127221-27d1-4338-ad09-72b66ab10ee3",
   "metadata": {},
   "outputs": [
    {
     "data": {
      "image/png": "[encoded data removed]",
      "text/plain": [
       "<Figure size 1000x600 with 1 Axes>"
      ]
     },
     "metadata": {},
     "output_type": "display_data"
    }
   ],
   "source": [
    "plt.figure(figsize=(10, 6))\n",
    "sns.histplot(data=training, x='Fare', hue='Survived')\n",
    "plt.title('Supervivencia por Fare')\n",
    "plt.xlabel('Clase')\n",
    "plt.ylabel('Cantidad de Personas')\n",
    "plt.legend(title='Sobrevivió', labels=['No', 'Sí'])\n",
    "plt.show()"
   ]
  },
  {
   "cell_type": "code",
   "execution_count": 77,
   "id": "249c7cac-a57b-47cb-8441-9307e2be0b4a",
   "metadata": {},
   "outputs": [
    {
     "name": "stderr",
     "output_type": "stream",
     "text": [
      "C:\\Users\\ivanv\\AppData\\Local\\Temp\\ipykernel_42644\\1062632801.py:2: FutureWarning: \n",
      "\n",
      "Passing `palette` without assigning `hue` is deprecated and will be removed in v0.14.0. Assign the `x` variable to `hue` and set `legend=False` for the same effect.\n",
      "\n",
      "  sns.boxplot(x='Pclass', y='Fare', data=training, palette='Set1')\n"
     ]
    },
    {
     "data": {
      "image/png": "[encoded data removed]",
      "text/plain": [
       "<Figure size 1200x600 with 1 Axes>"
      ]
     },
     "metadata": {},
     "output_type": "display_data"
    }
   ],
   "source": [
    "plt.figure(figsize=(12, 6))\n",
    "sns.boxplot(x='Pclass', y='Fare', data=training, palette='Set1')\n",
    "plt.title('Distribución de Fare por Pclass en el conjunto de training')\n",
    "plt.show()"
   ]
  },
  {
   "cell_type": "markdown",
   "id": "62a9d855-9078-45bc-ba03-632620d4b258",
   "metadata": {},
   "source": [
    "5. Verificar columnas del DataFrame e identificar sobre cúales se deberían generar variables dummies.\n",
    "   Generar columnas de dummies sobre \"Pclass\",\"Embarked\" y \"Sex\". Aplicar cambios en training y testing."
   ]
  },
  {
   "cell_type": "code",
   "execution_count": 79,
   "id": "e77eb639-2d69-470e-b39a-6c4d51d0896d",
   "metadata": {},
   "outputs": [
    {
     "data": {
      "text/html": [
       "<div>\n",
       "<style scoped>\n",
       "    .dataframe tbody tr th:only-of-type {\n",
       "        vertical-align: middle;\n",
       "    }\n",
       "\n",
       "    .dataframe tbody tr th {\n",
       "        vertical-align: top;\n",
       "    }\n",
       "\n",
       "    .dataframe thead th {\n",
       "        text-align: right;\n",
       "    }\n",
       "</style>\n",
       "<table border=\"1\" class=\"dataframe\">\n",
       "  <thead>\n",
       "    <tr style=\"text-align: right;\">\n",
       "      <th></th>\n",
       "      <th>PassengerId</th>\n",
       "      <th>Survived</th>\n",
       "      <th>Pclass</th>\n",
       "      <th>Name</th>\n",
       "      <th>Sex</th>\n",
       "      <th>Age</th>\n",
       "      <th>SibSp</th>\n",
       "      <th>Parch</th>\n",
       "      <th>Ticket</th>\n",
       "      <th>Fare</th>\n",
       "      <th>Embarked</th>\n",
       "    </tr>\n",
       "  </thead>\n",
       "  <tbody>\n",
       "    <tr>\n",
       "      <th>0</th>\n",
       "      <td>1</td>\n",
       "      <td>0</td>\n",
       "      <td>3</td>\n",
       "      <td>Braund, Mr. Owen Harris</td>\n",
       "      <td>male</td>\n",
       "      <td>22.0</td>\n",
       "      <td>1</td>\n",
       "      <td>0</td>\n",
       "      <td>A/5 21171</td>\n",
       "      <td>7.2500</td>\n",
       "      <td>S</td>\n",
       "    </tr>\n",
       "    <tr>\n",
       "      <th>1</th>\n",
       "      <td>2</td>\n",
       "      <td>1</td>\n",
       "      <td>1</td>\n",
       "      <td>Cumings, Mrs. John Bradley (Florence Briggs Th...</td>\n",
       "      <td>female</td>\n",
       "      <td>38.0</td>\n",
       "      <td>1</td>\n",
       "      <td>0</td>\n",
       "      <td>PC 17599</td>\n",
       "      <td>71.2833</td>\n",
       "      <td>C</td>\n",
       "    </tr>\n",
       "    <tr>\n",
       "      <th>2</th>\n",
       "      <td>3</td>\n",
       "      <td>1</td>\n",
       "      <td>3</td>\n",
       "      <td>Heikkinen, Miss. Laina</td>\n",
       "      <td>female</td>\n",
       "      <td>26.0</td>\n",
       "      <td>0</td>\n",
       "      <td>0</td>\n",
       "      <td>STON/O2. 3101282</td>\n",
       "      <td>7.9250</td>\n",
       "      <td>S</td>\n",
       "    </tr>\n",
       "    <tr>\n",
       "      <th>3</th>\n",
       "      <td>4</td>\n",
       "      <td>1</td>\n",
       "      <td>1</td>\n",
       "      <td>Futrelle, Mrs. Jacques Heath (Lily May Peel)</td>\n",
       "      <td>female</td>\n",
       "      <td>35.0</td>\n",
       "      <td>1</td>\n",
       "      <td>0</td>\n",
       "      <td>113803</td>\n",
       "      <td>53.1000</td>\n",
       "      <td>S</td>\n",
       "    </tr>\n",
       "    <tr>\n",
       "      <th>4</th>\n",
       "      <td>5</td>\n",
       "      <td>0</td>\n",
       "      <td>3</td>\n",
       "      <td>Allen, Mr. William Henry</td>\n",
       "      <td>male</td>\n",
       "      <td>35.0</td>\n",
       "      <td>0</td>\n",
       "      <td>0</td>\n",
       "      <td>373450</td>\n",
       "      <td>8.0500</td>\n",
       "      <td>S</td>\n",
       "    </tr>\n",
       "  </tbody>\n",
       "</table>\n",
       "</div>"
      ],
      "text/plain": [
       "   PassengerId  Survived  Pclass  \\\n",
       "0            1         0       3   \n",
       "1            2         1       1   \n",
       "2            3         1       3   \n",
       "3            4         1       1   \n",
       "4            5         0       3   \n",
       "\n",
       "                                                Name     Sex   Age  SibSp  \\\n",
       "0                            Braund, Mr. Owen Harris    male  22.0      1   \n",
       "1  Cumings, Mrs. John Bradley (Florence Briggs Th...  female  38.0      1   \n",
       "2                             Heikkinen, Miss. Laina  female  26.0      0   \n",
       "3       Futrelle, Mrs. Jacques Heath (Lily May Peel)  female  35.0      1   \n",
       "4                           Allen, Mr. William Henry    male  35.0      0   \n",
       "\n",
       "   Parch            Ticket     Fare Embarked  \n",
       "0      0         A/5 21171   7.2500        S  \n",
       "1      0          PC 17599  71.2833        C  \n",
       "2      0  STON/O2. 3101282   7.9250        S  \n",
       "3      0            113803  53.1000        S  \n",
       "4      0            373450   8.0500        S  "
      ]
     },
     "execution_count": 79,
     "metadata": {},
     "output_type": "execute_result"
    }
   ],
   "source": [
    "training.head()"
   ]
  },
  {
   "cell_type": "code",
   "execution_count": 115,
   "id": "813a6665-f27e-47d8-8db2-4233721e0885",
   "metadata": {},
   "outputs": [],
   "source": [
    "testing = pd.get_dummies(\n",
    "    testing,\n",
    "    columns = [\"Pclass\", \"Embarked\", \"Sex\"],\n",
    "    drop_first = True\n",
    ")\n",
    "training = pd.get_dummies(\n",
    "    training,\n",
    "    columns = [\"Pclass\", \"Embarked\", \"Sex\"],\n",
    "    drop_first = True\n",
    ")"
   ]
  },
  {
   "cell_type": "markdown",
   "id": "7e472d05-0cbe-40cb-b8fa-9cbd3fe8b371",
   "metadata": {},
   "source": [
    "6. Eliminar columnas del dataset que considere que no suman al modelo. Hacerlo en testing y training."
   ]
  },
  {
   "cell_type": "code",
   "execution_count": 117,
   "id": "4e9f62c2-ee9f-4fe8-a622-2ee6236968aa",
   "metadata": {},
   "outputs": [],
   "source": [
    "testing.drop([\"PassengerId\", \"Name\", \"Ticket\"], axis = \"columns\", inplace = True)"
   ]
  },
  {
   "cell_type": "code",
   "execution_count": 119,
   "id": "8f468ed2-d54c-4255-ae60-85b3e37a77fd",
   "metadata": {},
   "outputs": [],
   "source": [
    "training.drop([\"PassengerId\", \"Name\", \"Ticket\"], axis = \"columns\", inplace = True)"
   ]
  },
  {
   "cell_type": "markdown",
   "id": "84153db7-4a10-423a-8fda-73cd616369f7",
   "metadata": {},
   "source": [
    "7. Agregar una columna llamada \"IsMinor\" que sea 1 en caso de tener 16 años o menos y 0 en caso contrario. Hacerlo para testing y training."
   ]
  },
  {
   "cell_type": "code",
   "execution_count": 121,
   "id": "c638100f-753c-46a6-a215-322791b8eabc",
   "metadata": {},
   "outputs": [],
   "source": [
    "training[\"IsMinor\"] = np.where(training[\"Age\"]<= 16,1,0)\n",
    "testing[\"IsMinor\"] = np.where(testing[\"Age\"]<= 16,1,0)"
   ]
  },
  {
   "cell_type": "markdown",
   "id": "cf42e214-90db-4a7d-8de3-fdbb6225c316",
   "metadata": {},
   "source": [
    "8. Ajustar modelo considerando todas las variables del dataset de training."
   ]
  },
  {
   "cell_type": "code",
   "execution_count": 124,
   "id": "3d768251-2539-4e1f-bd58-503ffe3377f5",
   "metadata": {},
   "outputs": [],
   "source": [
    "from sklearn.linear_model import LogisticRegression\n",
    "\n",
    "X_train = training.loc[:, training.columns != \"Survived\"]\n",
    "y_train = training.loc[:, \"Survived\"]"
   ]
  },
  {
   "cell_type": "code",
   "execution_count": 128,
   "id": "bfe48809-6758-4fab-9e60-5b6d04bb4da7",
   "metadata": {},
   "outputs": [],
   "source": [
    "modelo = LogisticRegression(max_iter=10000000)"
   ]
  },
  {
   "cell_type": "code",
   "execution_count": 130,
   "id": "ae39873c-6129-40fc-9865-7dd9968c314a",
   "metadata": {},
   "outputs": [
    {
     "data": {
      "text/html": [
       "<style>#sk-container-id-1 {color: black;background-color: white;}#sk-container-id-1 pre{padding: 0;}#sk-container-id-1 div.sk-toggleable {background-color: white;}#sk-container-id-1 label.sk-toggleable__label {cursor: pointer;display: block;width: 100%;margin-bottom: 0;padding: 0.3em;box-sizing: border-box;text-align: center;}#sk-container-id-1 label.sk-toggleable__label-arrow:before {content: \"▸\";float: left;margin-right: 0.25em;color: #696969;}#sk-container-id-1 label.sk-toggleable__label-arrow:hover:before {color: black;}#sk-container-id-1 div.sk-estimator:hover label.sk-toggleable__label-arrow:before {color: black;}#sk-container-id-1 div.sk-toggleable__content {max-height: 0;max-width: 0;overflow: hidden;text-align: left;background-color: #f0f8ff;}#sk-container-id-1 div.sk-toggleable__content pre {margin: 0.2em;color: black;border-radius: 0.25em;background-color: #f0f8ff;}#sk-container-id-1 input.sk-toggleable__control:checked~div.sk-toggleable__content {max-height: 200px;max-width: 100%;overflow: auto;}#sk-container-id-1 input.sk-toggleable__control:checked~label.sk-toggleable__label-arrow:before {content: \"▾\";}#sk-container-id-1 div.sk-estimator input.sk-toggleable__control:checked~label.sk-toggleable__label {background-color: #d4ebff;}#sk-container-id-1 div.sk-label input.sk-toggleable__control:checked~label.sk-toggleable__label {background-color: #d4ebff;}#sk-container-id-1 input.sk-hidden--visually {border: 0;clip: rect(1px 1px 1px 1px);clip: rect(1px, 1px, 1px, 1px);height: 1px;margin: -1px;overflow: hidden;padding: 0;position: absolute;width: 1px;}#sk-container-id-1 div.sk-estimator {font-family: monospace;background-color: #f0f8ff;border: 1px dotted black;border-radius: 0.25em;box-sizing: border-box;margin-bottom: 0.5em;}#sk-container-id-1 div.sk-estimator:hover {background-color: #d4ebff;}#sk-container-id-1 div.sk-parallel-item::after {content: \"\";width: 100%;border-bottom: 1px solid gray;flex-grow: 1;}#sk-container-id-1 div.sk-label:hover label.sk-toggleable__label {background-color: #d4ebff;}#sk-container-id-1 div.sk-serial::before {content: \"\";position: absolute;border-left: 1px solid gray;box-sizing: border-box;top: 0;bottom: 0;left: 50%;z-index: 0;}#sk-container-id-1 div.sk-serial {display: flex;flex-direction: column;align-items: center;background-color: white;padding-right: 0.2em;padding-left: 0.2em;position: relative;}#sk-container-id-1 div.sk-item {position: relative;z-index: 1;}#sk-container-id-1 div.sk-parallel {display: flex;align-items: stretch;justify-content: center;background-color: white;position: relative;}#sk-container-id-1 div.sk-item::before, #sk-container-id-1 div.sk-parallel-item::before {content: \"\";position: absolute;border-left: 1px solid gray;box-sizing: border-box;top: 0;bottom: 0;left: 50%;z-index: -1;}#sk-container-id-1 div.sk-parallel-item {display: flex;flex-direction: column;z-index: 1;position: relative;background-color: white;}#sk-container-id-1 div.sk-parallel-item:first-child::after {align-self: flex-end;width: 50%;}#sk-container-id-1 div.sk-parallel-item:last-child::after {align-self: flex-start;width: 50%;}#sk-container-id-1 div.sk-parallel-item:only-child::after {width: 0;}#sk-container-id-1 div.sk-dashed-wrapped {border: 1px dashed gray;margin: 0 0.4em 0.5em 0.4em;box-sizing: border-box;padding-bottom: 0.4em;background-color: white;}#sk-container-id-1 div.sk-label label {font-family: monospace;font-weight: bold;display: inline-block;line-height: 1.2em;}#sk-container-id-1 div.sk-label-container {text-align: center;}#sk-container-id-1 div.sk-container {/* jupyter's `normalize.less` sets `[hidden] { display: none; }` but bootstrap.min.css set `[hidden] { display: none !important; }` so we also need the `!important` here to be able to override the default hidden behavior on the sphinx rendered scikit-learn.org. See: https://github.com/scikit-learn/scikit-learn/issues/21755 */display: inline-block !important;position: relative;}#sk-container-id-1 div.sk-text-repr-fallback {display: none;}</style><div id=\"sk-container-id-1\" class=\"sk-top-container\"><div class=\"sk-text-repr-fallback\"><pre>LogisticRegression(max_iter=10000000)</pre><b>In a Jupyter environment, please rerun this cell to show the HTML representation or trust the notebook. <br />On GitHub, the HTML representation is unable to render, please try loading this page with nbviewer.org.</b></div><div class=\"sk-container\" hidden><div class=\"sk-item\"><div class=\"sk-estimator sk-toggleable\"><input class=\"sk-toggleable__control sk-hidden--visually\" id=\"sk-estimator-id-1\" type=\"checkbox\" checked><label for=\"sk-estimator-id-1\" class=\"sk-toggleable__label sk-toggleable__label-arrow\">LogisticRegression</label><div class=\"sk-toggleable__content\"><pre>LogisticRegression(max_iter=10000000)</pre></div></div></div></div></div>"
      ],
      "text/plain": [
       "LogisticRegression(max_iter=10000000)"
      ]
     },
     "execution_count": 130,
     "metadata": {},
     "output_type": "execute_result"
    }
   ],
   "source": [
    "modelo.fit(X_train, y_train)"
   ]
  },
  {
   "cell_type": "markdown",
   "id": "a9dba403-7294-47b1-bf56-44f23da9491f",
   "metadata": {},
   "source": [
    "9. Validar el modelo con datos de testing, agregar dos columnas a test_data:\n",
    "    * predicción: valor 0 o 1\n",
    "    * probabilidad_prediccion: valor de la probabilidad devuelta por el modelo"
   ]
  },
  {
   "cell_type": "code",
   "execution_count": 132,
   "id": "562b38e1-da8e-43d2-b822-ce681460d387",
   "metadata": {},
   "outputs": [],
   "source": [
    "X_test = testing.loc[:, testing.columns != \"Survived\"]\n",
    "y_test = testing.loc[:, \"Survived\"]"
   ]
  },
  {
   "cell_type": "code",
   "execution_count": 139,
   "id": "c44d6659-c4da-4b87-b428-fe1fb77f3ea5",
   "metadata": {
    "scrolled": true
   },
   "outputs": [],
   "source": [
    "y_pred = modelo.predict(X_test)\n",
    "y_pred_proba = modelo.predict_proba(X_test)[:,1]"
   ]
  },
  {
   "cell_type": "code",
   "execution_count": 143,
   "id": "b70cacf9-abf1-48c8-85d3-bf19eb5e8351",
   "metadata": {},
   "outputs": [
    {
     "data": {
      "text/html": [
       "<div>\n",
       "<style scoped>\n",
       "    .dataframe tbody tr th:only-of-type {\n",
       "        vertical-align: middle;\n",
       "    }\n",
       "\n",
       "    .dataframe tbody tr th {\n",
       "        vertical-align: top;\n",
       "    }\n",
       "\n",
       "    .dataframe thead th {\n",
       "        text-align: right;\n",
       "    }\n",
       "</style>\n",
       "<table border=\"1\" class=\"dataframe\">\n",
       "  <thead>\n",
       "    <tr style=\"text-align: right;\">\n",
       "      <th></th>\n",
       "      <th>Age</th>\n",
       "      <th>SibSp</th>\n",
       "      <th>Parch</th>\n",
       "      <th>Fare</th>\n",
       "      <th>Survived</th>\n",
       "      <th>Pclass_2</th>\n",
       "      <th>Pclass_3</th>\n",
       "      <th>Embarked_Q</th>\n",
       "      <th>Embarked_S</th>\n",
       "      <th>Sex_male</th>\n",
       "      <th>IsMinor</th>\n",
       "      <th>prediccion</th>\n",
       "      <th>probabilidad_prediccion</th>\n",
       "    </tr>\n",
       "  </thead>\n",
       "  <tbody>\n",
       "    <tr>\n",
       "      <th>0</th>\n",
       "      <td>34.5</td>\n",
       "      <td>0</td>\n",
       "      <td>0</td>\n",
       "      <td>7.8292</td>\n",
       "      <td>0</td>\n",
       "      <td>False</td>\n",
       "      <td>True</td>\n",
       "      <td>True</td>\n",
       "      <td>False</td>\n",
       "      <td>True</td>\n",
       "      <td>0</td>\n",
       "      <td>0</td>\n",
       "      <td>0.105648</td>\n",
       "    </tr>\n",
       "    <tr>\n",
       "      <th>1</th>\n",
       "      <td>47.0</td>\n",
       "      <td>1</td>\n",
       "      <td>0</td>\n",
       "      <td>7.0000</td>\n",
       "      <td>1</td>\n",
       "      <td>False</td>\n",
       "      <td>True</td>\n",
       "      <td>False</td>\n",
       "      <td>True</td>\n",
       "      <td>False</td>\n",
       "      <td>0</td>\n",
       "      <td>0</td>\n",
       "      <td>0.355213</td>\n",
       "    </tr>\n",
       "    <tr>\n",
       "      <th>2</th>\n",
       "      <td>62.0</td>\n",
       "      <td>0</td>\n",
       "      <td>0</td>\n",
       "      <td>9.6875</td>\n",
       "      <td>0</td>\n",
       "      <td>True</td>\n",
       "      <td>False</td>\n",
       "      <td>True</td>\n",
       "      <td>False</td>\n",
       "      <td>True</td>\n",
       "      <td>0</td>\n",
       "      <td>0</td>\n",
       "      <td>0.157815</td>\n",
       "    </tr>\n",
       "    <tr>\n",
       "      <th>3</th>\n",
       "      <td>27.0</td>\n",
       "      <td>0</td>\n",
       "      <td>0</td>\n",
       "      <td>8.6625</td>\n",
       "      <td>0</td>\n",
       "      <td>False</td>\n",
       "      <td>True</td>\n",
       "      <td>False</td>\n",
       "      <td>True</td>\n",
       "      <td>True</td>\n",
       "      <td>0</td>\n",
       "      <td>0</td>\n",
       "      <td>0.095678</td>\n",
       "    </tr>\n",
       "    <tr>\n",
       "      <th>4</th>\n",
       "      <td>22.0</td>\n",
       "      <td>1</td>\n",
       "      <td>1</td>\n",
       "      <td>12.2875</td>\n",
       "      <td>1</td>\n",
       "      <td>False</td>\n",
       "      <td>True</td>\n",
       "      <td>False</td>\n",
       "      <td>True</td>\n",
       "      <td>False</td>\n",
       "      <td>0</td>\n",
       "      <td>0</td>\n",
       "      <td>0.489254</td>\n",
       "    </tr>\n",
       "  </tbody>\n",
       "</table>\n",
       "</div>"
      ],
      "text/plain": [
       "    Age  SibSp  Parch     Fare  Survived  Pclass_2  Pclass_3  Embarked_Q  \\\n",
       "0  34.5      0      0   7.8292         0     False      True        True   \n",
       "1  47.0      1      0   7.0000         1     False      True       False   \n",
       "2  62.0      0      0   9.6875         0      True     False        True   \n",
       "3  27.0      0      0   8.6625         0     False      True       False   \n",
       "4  22.0      1      1  12.2875         1     False      True       False   \n",
       "\n",
       "   Embarked_S  Sex_male  IsMinor  prediccion  probabilidad_prediccion  \n",
       "0       False      True        0           0                 0.105648  \n",
       "1        True     False        0           0                 0.355213  \n",
       "2       False      True        0           0                 0.157815  \n",
       "3        True      True        0           0                 0.095678  \n",
       "4        True     False        0           0                 0.489254  "
      ]
     },
     "execution_count": 143,
     "metadata": {},
     "output_type": "execute_result"
    }
   ],
   "source": [
    "testing[\"prediccion\"] = y_pred\n",
    "testing[\"probabilidad_prediccion\"] = y_pred_proba\n",
    "testing.head()"
   ]
  },
  {
   "cell_type": "markdown",
   "id": "bd025fd1-e1d5-47df-a9cb-e4992af54672",
   "metadata": {},
   "source": [
    "10. Calcular matriz de confusión"
   ]
  },
  {
   "cell_type": "code",
   "execution_count": 145,
   "id": "c16cda76-6460-4ed3-9426-95b5e559968f",
   "metadata": {},
   "outputs": [],
   "source": [
    "from sklearn.metrics import confusion_matrix, roc_curve, roc_auc_score"
   ]
  },
  {
   "cell_type": "code",
   "execution_count": 151,
   "id": "b05151fa-5653-496a-966e-20648f6f6a0a",
   "metadata": {},
   "outputs": [
    {
     "data": {
      "text/plain": [
       "real  pred\n",
       "0     0       252\n",
       "      1        14\n",
       "1     0        16\n",
       "      1       136\n",
       "dtype: int64"
      ]
     },
     "execution_count": 151,
     "metadata": {},
     "output_type": "execute_result"
    }
   ],
   "source": [
    "pd.DataFrame(\n",
    "    {\n",
    "        \"real\": y_test,\n",
    "        \"pred\": y_pred\n",
    "    }\n",
    ").groupby([\"real\", \"pred\"]).size()"
   ]
  },
  {
   "cell_type": "code",
   "execution_count": 147,
   "id": "0a4830cb-e05a-4f54-8e5c-593597220bf4",
   "metadata": {},
   "outputs": [
    {
     "data": {
      "text/plain": [
       "array([[252,  14],\n",
       "       [ 16, 136]], dtype=int64)"
      ]
     },
     "execution_count": 147,
     "metadata": {},
     "output_type": "execute_result"
    }
   ],
   "source": [
    "matriz_confusion = confusion_matrix(y_test, y_pred)\n",
    "matriz_confusion"
   ]
  },
  {
   "cell_type": "code",
   "execution_count": 153,
   "id": "30dcf05f-d049-4f7e-ab7c-30d2f44eeb02",
   "metadata": {},
   "outputs": [],
   "source": [
    "TN = matriz_confusion[0,0]\n",
    "FP = matriz_confusion[0,1]\n",
    "FN = matriz_confusion[1,0]\n",
    "TP = matriz_confusion[1,1]"
   ]
  },
  {
   "cell_type": "markdown",
   "id": "b0647506-fa6e-489b-b19f-b06aac31c2e3",
   "metadata": {},
   "source": [
    "11. Calcular Accuracy"
   ]
  },
  {
   "cell_type": "code",
   "execution_count": 155,
   "id": "2d4c7729-dc25-448e-a0f5-2b411f429952",
   "metadata": {},
   "outputs": [
    {
     "data": {
      "text/plain": [
       "0.9282296650717703"
      ]
     },
     "execution_count": 155,
     "metadata": {},
     "output_type": "execute_result"
    }
   ],
   "source": [
    "(TN + TP) / (TN + TP + FN + FP)"
   ]
  },
  {
   "cell_type": "markdown",
   "id": "9de944c0-8c5c-4499-a612-c469202705c6",
   "metadata": {},
   "source": [
    "12. Calcular sensibilidad"
   ]
  },
  {
   "cell_type": "code",
   "execution_count": 157,
   "id": "23d46e37-0c7e-47d5-9cfe-d89d9cb8ff01",
   "metadata": {},
   "outputs": [
    {
     "data": {
      "text/plain": [
       "0.8947368421052632"
      ]
     },
     "execution_count": 157,
     "metadata": {},
     "output_type": "execute_result"
    }
   ],
   "source": [
    "TP / (TP + FN)"
   ]
  },
  {
   "cell_type": "markdown",
   "id": "8bd49b7a-8622-40a8-a859-36a2892bfaed",
   "metadata": {},
   "source": [
    "13. Calcular especificidad"
   ]
  },
  {
   "cell_type": "code",
   "execution_count": 161,
   "id": "4489c898-321d-485e-aa23-77f0329e5ce1",
   "metadata": {},
   "outputs": [
    {
     "data": {
      "text/plain": [
       "0.9473684210526315"
      ]
     },
     "execution_count": 161,
     "metadata": {},
     "output_type": "execute_result"
    }
   ],
   "source": [
    "TN / (TN + FP)"
   ]
  },
  {
   "cell_type": "markdown",
   "id": "26c35c86-fe11-48c8-bb86-a3c21da3fe99",
   "metadata": {},
   "source": [
    "14. Graficar curva de ROC"
   ]
  },
  {
   "cell_type": "code",
   "execution_count": 163,
   "id": "8d1acb6b-bf41-4e07-b793-f323fb6d757a",
   "metadata": {},
   "outputs": [],
   "source": [
    "especificidad_inv, sensibilidad, umbral = roc_curve(y_test, y_pred_proba)"
   ]
  },
  {
   "cell_type": "code",
   "execution_count": 167,
   "id": "83d4fb22-a690-45ec-a65a-f21954883932",
   "metadata": {},
   "outputs": [
    {
     "data": {
      "text/plain": [
       "<Axes: >"
      ]
     },
     "execution_count": 167,
     "metadata": {},
     "output_type": "execute_result"
    },
    {
     "data": {
      "image/png": "[encoded data removed]",
      "text/plain": [
       "<Figure size 640x480 with 1 Axes>"
      ]
     },
     "metadata": {},
     "output_type": "display_data"
    }
   ],
   "source": [
    "recta_x = [i for i in np.arange(0,1,0.01)]\n",
    "sns.scatterplot(x = especificidad_inv, y = sensibilidad)\n",
    "sns.lineplot(x=recta_x, y = recta_x, color=\"r\", ls = \"--\")"
   ]
  },
  {
   "cell_type": "code",
   "execution_count": null,
   "id": "63b48c35-2576-4b2c-afb1-1cadd0a354fe",
   "metadata": {},
   "outputs": [],
   "source": []
  },
  {
   "cell_type": "markdown",
   "id": "01f5ec9f-8abc-40bf-a64b-0f3121a3ef0a",
   "metadata": {},
   "source": [
    "15. Calcular valor de área bajo la curva de ROC"
   ]
  },
  {
   "cell_type": "code",
   "execution_count": 170,
   "id": "df5af997-62ea-4584-9a61-3e163047a727",
   "metadata": {},
   "outputs": [
    {
     "data": {
      "text/plain": [
       "0.9756133755441235"
      ]
     },
     "execution_count": 170,
     "metadata": {},
     "output_type": "execute_result"
    }
   ],
   "source": [
    "roc_auc_score(y_test, y_pred_proba)"
   ]
  },
  {
   "cell_type": "code",
   "execution_count": null,
   "id": "ceb765cf-e590-49e9-a903-1dd84e9ccf30",
   "metadata": {},
   "outputs": [],
   "source": []
  },
  {
   "cell_type": "code",
   "execution_count": 172,
   "id": "7b4922d2-251f-4fab-9f72-1563ca0bc59e",
   "metadata": {},
   "outputs": [
    {
     "data": {
      "text/plain": [
       "range(0, 418)"
      ]
     },
     "execution_count": 172,
     "metadata": {},
     "output_type": "execute_result"
    }
   ],
   "source": [
    "range(len(sorted(y_pred_proba)))"
   ]
  },
  {
   "cell_type": "code",
   "execution_count": 174,
   "id": "72f7c294-65fc-4fc0-a0bf-167fc71d9aeb",
   "metadata": {
    "collapsed": true,
    "jupyter": {
     "outputs_hidden": true
    }
   },
   "outputs": [
    {
     "data": {
      "text/plain": [
       "[0.014456523124414577,\n",
       " 0.022820258475514013,\n",
       " 0.024454321951461338,\n",
       " 0.02497461132849873,\n",
       " 0.026971665626902713,\n",
       " 0.029175972795120752,\n",
       " 0.03738746537230988,\n",
       " 0.04144595308806225,\n",
       " 0.04768814505332302,\n",
       " 0.05375540290408107,\n",
       " 0.05660638569652694,\n",
       " 0.057073277792016326,\n",
       " 0.059280401493234436,\n",
       " 0.06035102654994958,\n",
       " 0.060549300094782744,\n",
       " 0.06370930493065532,\n",
       " 0.06375403670273483,\n",
       " 0.0670885984525973,\n",
       " 0.06969424750212101,\n",
       " 0.07134918386259664,\n",
       " 0.07371824873419744,\n",
       " 0.07385872746287338,\n",
       " 0.07385872746287338,\n",
       " 0.07402514780652662,\n",
       " 0.07503319524103376,\n",
       " 0.07548206681639757,\n",
       " 0.0760164185742921,\n",
       " 0.07661189353886716,\n",
       " 0.07692320505164635,\n",
       " 0.07813508508962388,\n",
       " 0.08215701168799527,\n",
       " 0.08221246311815555,\n",
       " 0.08366704760129785,\n",
       " 0.08416432156801686,\n",
       " 0.08422100350295605,\n",
       " 0.08430067149205085,\n",
       " 0.08674981581840793,\n",
       " 0.08854864024401421,\n",
       " 0.0885917931534723,\n",
       " 0.09079626567365373,\n",
       " 0.09081821207552893,\n",
       " 0.0926042953897338,\n",
       " 0.09288907163045744,\n",
       " 0.09314246759545775,\n",
       " 0.0954159483172249,\n",
       " 0.09542943000620421,\n",
       " 0.09567820667545299,\n",
       " 0.09567820667545299,\n",
       " 0.0958915512711884,\n",
       " 0.09777755330102625,\n",
       " 0.09777755330102625,\n",
       " 0.09781757104360747,\n",
       " 0.09783557287625003,\n",
       " 0.0995231858886083,\n",
       " 0.10017563415667516,\n",
       " 0.10022498857726199,\n",
       " 0.10025885183693314,\n",
       " 0.10026874182632053,\n",
       " 0.10052924270658706,\n",
       " 0.10080347739960152,\n",
       " 0.10244445428071504,\n",
       " 0.10246171686596195,\n",
       " 0.10253079297709024,\n",
       " 0.10263448448419836,\n",
       " 0.10263448448419836,\n",
       " 0.10263448448419836,\n",
       " 0.10263448448419836,\n",
       " 0.10264312963394724,\n",
       " 0.10271231405123774,\n",
       " 0.10271231405123774,\n",
       " 0.10273972249270762,\n",
       " 0.10274837549192734,\n",
       " 0.1027512484303537,\n",
       " 0.10275412143991058,\n",
       " 0.10275412143991058,\n",
       " 0.10275412143991058,\n",
       " 0.10280751004921534,\n",
       " 0.10280751004921534,\n",
       " 0.10280751004921534,\n",
       " 0.10280751004921534,\n",
       " 0.10280751004921534,\n",
       " 0.10280751004921534,\n",
       " 0.10280751004921534,\n",
       " 0.10301981829874449,\n",
       " 0.10303716670679428,\n",
       " 0.10324989464238085,\n",
       " 0.10328378195782754,\n",
       " 0.10328520765503052,\n",
       " 0.10500541349464111,\n",
       " 0.10526885756854908,\n",
       " 0.1056484035004463,\n",
       " 0.10661200586833733,\n",
       " 0.10786635258958098,\n",
       " 0.1078738678871212,\n",
       " 0.10796575068678362,\n",
       " 0.1105277007818713,\n",
       " 0.11053537852785467,\n",
       " 0.11055693777282193,\n",
       " 0.110572297288869,\n",
       " 0.11062924718083081,\n",
       " 0.11327624090846747,\n",
       " 0.11330294382560195,\n",
       " 0.11434356679996734,\n",
       " 0.11500771738762387,\n",
       " 0.11884915750910285,\n",
       " 0.11920841011678102,\n",
       " 0.11938242228344824,\n",
       " 0.1195083267035979,\n",
       " 0.12083765397036665,\n",
       " 0.12180304462642569,\n",
       " 0.12211129380520383,\n",
       " 0.129469100300766,\n",
       " 0.12974356151879443,\n",
       " 0.1328785318340947,\n",
       " 0.13446274293074006,\n",
       " 0.1357709205885598,\n",
       " 0.13599134322762402,\n",
       " 0.13599134322762402,\n",
       " 0.13599134322762402,\n",
       " 0.13599134322762402,\n",
       " 0.13599134322762402,\n",
       " 0.13599134322762402,\n",
       " 0.13599134322762402,\n",
       " 0.13599134322762402,\n",
       " 0.13599134322762402,\n",
       " 0.13604834944001357,\n",
       " 0.1365923851246903,\n",
       " 0.1379305698918042,\n",
       " 0.13931316504722713,\n",
       " 0.14226325206567056,\n",
       " 0.1426244208678578,\n",
       " 0.1426244208678578,\n",
       " 0.14262634914908418,\n",
       " 0.14262634914908418,\n",
       " 0.14262634914908418,\n",
       " 0.14262634914908418,\n",
       " 0.1429326704713125,\n",
       " 0.14592711777165557,\n",
       " 0.1459602506146215,\n",
       " 0.14771702402956063,\n",
       " 0.14944765336034208,\n",
       " 0.15126885424606296,\n",
       " 0.1529590249977453,\n",
       " 0.15594230757055733,\n",
       " 0.15653771476977763,\n",
       " 0.15781455593503327,\n",
       " 0.15962762201876318,\n",
       " 0.1620353647869354,\n",
       " 0.16284336308396186,\n",
       " 0.1671057541452035,\n",
       " 0.1677391203699671,\n",
       " 0.1705889788693145,\n",
       " 0.17084304136196182,\n",
       " 0.1735721776169072,\n",
       " 0.18419271059632947,\n",
       " 0.18527198679935594,\n",
       " 0.18696563880568043,\n",
       " 0.1925579625039047,\n",
       " 0.1926609403515922,\n",
       " 0.1940798210271034,\n",
       " 0.1968478174060195,\n",
       " 0.2012094272244316,\n",
       " 0.20278248952481134,\n",
       " 0.20302584436753288,\n",
       " 0.21119363173686456,\n",
       " 0.21937549385347682,\n",
       " 0.21997046887737326,\n",
       " 0.2210996844383298,\n",
       " 0.22186588119399375,\n",
       " 0.2300223916721084,\n",
       " 0.2386915803452558,\n",
       " 0.23903287880936272,\n",
       " 0.24206239415657363,\n",
       " 0.24877716568864536,\n",
       " 0.24877716568864536,\n",
       " 0.25734586572551854,\n",
       " 0.2584391264290112,\n",
       " 0.2587236849651463,\n",
       " 0.2590537517274833,\n",
       " 0.26244893986334156,\n",
       " 0.26452435018069603,\n",
       " 0.26654841805180984,\n",
       " 0.2686241055066717,\n",
       " 0.2697873689336741,\n",
       " 0.2697873689336741,\n",
       " 0.2697873689336741,\n",
       " 0.27334299996723077,\n",
       " 0.27334299996723077,\n",
       " 0.27376195196192515,\n",
       " 0.27650159164285526,\n",
       " 0.27881114769301396,\n",
       " 0.28108160197352133,\n",
       " 0.28271375149846795,\n",
       " 0.2837689953326818,\n",
       " 0.28434587957768337,\n",
       " 0.2875483886164443,\n",
       " 0.2882949855665483,\n",
       " 0.28928022460319264,\n",
       " 0.28994630998949394,\n",
       " 0.29142854195119694,\n",
       " 0.2923992539191184,\n",
       " 0.2924555753240028,\n",
       " 0.2958041105704298,\n",
       " 0.29639386662021994,\n",
       " 0.29756968662820327,\n",
       " 0.2984143907163579,\n",
       " 0.30215344152498363,\n",
       " 0.3071318705739225,\n",
       " 0.3079536818045336,\n",
       " 0.3120622172869824,\n",
       " 0.31298481630790065,\n",
       " 0.3174602294857845,\n",
       " 0.3228990614278922,\n",
       " 0.3251328192286441,\n",
       " 0.32571696205140277,\n",
       " 0.32707779256123953,\n",
       " 0.32831953375772804,\n",
       " 0.3320975687530171,\n",
       " 0.3332753913313267,\n",
       " 0.33919266708532114,\n",
       " 0.3396416891579824,\n",
       " 0.3411958191846662,\n",
       " 0.3453414444151097,\n",
       " 0.3501959352151684,\n",
       " 0.3506659852165835,\n",
       " 0.3506659852165835,\n",
       " 0.3506659852165835,\n",
       " 0.3506659852165835,\n",
       " 0.35521302572840746,\n",
       " 0.3554920012043466,\n",
       " 0.3603323417330125,\n",
       " 0.361902400158121,\n",
       " 0.36442053749396175,\n",
       " 0.3659415817531545,\n",
       " 0.3696049055398548,\n",
       " 0.37231302987932013,\n",
       " 0.3726004368046484,\n",
       " 0.3740707138090373,\n",
       " 0.3741322706200974,\n",
       " 0.3861548902241109,\n",
       " 0.386405370617627,\n",
       " 0.3887782865151076,\n",
       " 0.3926171447112343,\n",
       " 0.4009389380297094,\n",
       " 0.40305053044318023,\n",
       " 0.40492858691370426,\n",
       " 0.40857337742844607,\n",
       " 0.4220106864227133,\n",
       " 0.42298769110424406,\n",
       " 0.42307718311468356,\n",
       " 0.4233173670956184,\n",
       " 0.4253910381171264,\n",
       " 0.4280408955910813,\n",
       " 0.4394733573516997,\n",
       " 0.4460518857481539,\n",
       " 0.45275767458971555,\n",
       " 0.45453759249447395,\n",
       " 0.45799949094520515,\n",
       " 0.45837298173924923,\n",
       " 0.4620648179580552,\n",
       " 0.4621372951360182,\n",
       " 0.46347620629868586,\n",
       " 0.4710637394138278,\n",
       " 0.47527816899469894,\n",
       " 0.48731526028016864,\n",
       " 0.48862349900136637,\n",
       " 0.48925390786871653,\n",
       " 0.4956887601842038,\n",
       " 0.5164630377322423,\n",
       " 0.5170348358590536,\n",
       " 0.518150739894068,\n",
       " 0.5242885065254698,\n",
       " 0.5266530563377487,\n",
       " 0.5284002078116273,\n",
       " 0.5333258574123244,\n",
       " 0.5362019312875215,\n",
       " 0.5386990262727843,\n",
       " 0.5452406776271214,\n",
       " 0.5471752218337528,\n",
       " 0.5508400696040858,\n",
       " 0.5554715427528327,\n",
       " 0.5572360289721711,\n",
       " 0.5730985426645164,\n",
       " 0.5779632790415147,\n",
       " 0.5796415438551423,\n",
       " 0.5808565133757017,\n",
       " 0.5971269037756369,\n",
       " 0.603840521369735,\n",
       " 0.6053740926479572,\n",
       " 0.607848465185688,\n",
       " 0.6084106043720442,\n",
       " 0.6102182225792677,\n",
       " 0.6126353283159596,\n",
       " 0.6128097708504875,\n",
       " 0.6133552736118405,\n",
       " 0.6192813916591354,\n",
       " 0.6192813916591354,\n",
       " 0.6193367156659637,\n",
       " 0.6200888140223351,\n",
       " 0.620495563033556,\n",
       " 0.6231328162123955,\n",
       " 0.6249742664019796,\n",
       " 0.6262493227352867,\n",
       " 0.6319253821286546,\n",
       " 0.641534345095076,\n",
       " 0.6421205666987959,\n",
       " 0.6429162164521636,\n",
       " 0.6444908945376585,\n",
       " 0.6447274260541181,\n",
       " 0.6468639564672517,\n",
       " 0.6609657504456209,\n",
       " 0.671297578759764,\n",
       " 0.6790039518879958,\n",
       " 0.6790039518879958,\n",
       " 0.6874877870645125,\n",
       " 0.6907888986704888,\n",
       " 0.6907922669028415,\n",
       " 0.6907989231119374,\n",
       " 0.6908123154855718,\n",
       " 0.6908123154855718,\n",
       " 0.6908123154855718,\n",
       " 0.6908123154855718,\n",
       " 0.6908123154855718,\n",
       " 0.6908357313209581,\n",
       " 0.6909159151143089,\n",
       " 0.6944614420125091,\n",
       " 0.6969925153444136,\n",
       " 0.697139961616178,\n",
       " 0.6973561546238252,\n",
       " 0.6995466286205523,\n",
       " 0.7012864558809564,\n",
       " 0.7035077892728832,\n",
       " 0.7105239670143113,\n",
       " 0.7137869114300305,\n",
       " 0.7192331305067683,\n",
       " 0.7248620585493835,\n",
       " 0.7260189971667513,\n",
       " 0.7606750950466913,\n",
       " 0.7639528522697974,\n",
       " 0.7639528522697974,\n",
       " 0.7784455575019629,\n",
       " 0.779125859339933,\n",
       " 0.7817637348887924,\n",
       " 0.7885159543830448,\n",
       " 0.7937245394239737,\n",
       " 0.7989841098171309,\n",
       " 0.8014246606958956,\n",
       " 0.8014908128947056,\n",
       " 0.8054514995740557,\n",
       " 0.8090683503707853,\n",
       " 0.8094981918390789,\n",
       " 0.8116742482276905,\n",
       " 0.8141758744367567,\n",
       " 0.8165348627139641,\n",
       " 0.81693530287458,\n",
       " 0.81693530287458,\n",
       " 0.8266309624995839,\n",
       " 0.8288901527965314,\n",
       " 0.829279971292034,\n",
       " 0.8324215675789209,\n",
       " 0.832627613272407,\n",
       " 0.8337482171966353,\n",
       " 0.8346113438738411,\n",
       " 0.8366369286016478,\n",
       " 0.8412027082456853,\n",
       " 0.843861600420573,\n",
       " 0.8446953470689752,\n",
       " 0.8458668178899783,\n",
       " 0.850936771981022,\n",
       " 0.8514160807213931,\n",
       " 0.853394470632918,\n",
       " 0.8541268509725102,\n",
       " 0.8571699299602846,\n",
       " 0.8574186370130175,\n",
       " 0.8636609282587286,\n",
       " 0.8648092709042429,\n",
       " 0.8814914799587197,\n",
       " 0.8837786864763236,\n",
       " 0.8853702342811065,\n",
       " 0.8861683843732049,\n",
       " 0.8865313823336078,\n",
       " 0.8869862051742785,\n",
       " 0.8907973845550555,\n",
       " 0.903125753116362,\n",
       " 0.9045226362964389,\n",
       " 0.9057984027348827,\n",
       " 0.9065187766793077,\n",
       " 0.9072837331615006,\n",
       " 0.9078813125217488,\n",
       " 0.9102246140263272,\n",
       " 0.9124303821892966,\n",
       " 0.9144783177501217,\n",
       " 0.9160370626687577,\n",
       " 0.9177218962873935,\n",
       " 0.9249207988380364,\n",
       " 0.9266811878660294,\n",
       " 0.9269900495418651,\n",
       " 0.9280191935874693,\n",
       " 0.9282950045570005,\n",
       " 0.9314109416719267,\n",
       " 0.9316634948081265,\n",
       " 0.9368871084738521,\n",
       " 0.9398676597627116,\n",
       " 0.9403605467791021,\n",
       " 0.9434711311127615,\n",
       " 0.9442607508330023,\n",
       " 0.9467388437455861,\n",
       " 0.9472250284912678,\n",
       " 0.9482717778585035,\n",
       " 0.9497723220842523,\n",
       " 0.9519545743435406,\n",
       " 0.9548935342376819,\n",
       " 0.9553913397688276,\n",
       " 0.9556702663028994,\n",
       " 0.9593497422123282,\n",
       " 0.962451398281114,\n",
       " 0.9679380311538549,\n",
       " 0.9732304720164368]"
      ]
     },
     "execution_count": 174,
     "metadata": {},
     "output_type": "execute_result"
    }
   ],
   "source": [
    "sorted(y_pred_proba)"
   ]
  },
  {
   "cell_type": "code",
   "execution_count": 176,
   "id": "f7c6a395-0434-4314-b5a7-23c852d52954",
   "metadata": {},
   "outputs": [
    {
     "data": {
      "text/plain": [
       "<Axes: >"
      ]
     },
     "execution_count": 176,
     "metadata": {},
     "output_type": "execute_result"
    },
    {
     "data": {
      "image/png": "[encoded data removed]",
      "text/plain": [
       "<Figure size 640x480 with 1 Axes>"
      ]
     },
     "metadata": {},
     "output_type": "display_data"
    }
   ],
   "source": [
    "sns.scatterplot(x = range(len(sorted(y_pred_proba))), y = sorted(y_pred_proba))"
   ]
  },
  {
   "cell_type": "code",
   "execution_count": null,
   "id": "1e6ef37e-11d5-4e96-8d71-ef153aef2266",
   "metadata": {},
   "outputs": [],
   "source": []
  }
 ],
 "metadata": {
  "kernelspec": {
   "display_name": "Python 3 (ipykernel)",
   "language": "python",
   "name": "python3"
  },
  "language_info": {
   "codemirror_mode": {
    "name": "ipython",
    "version": 3
   },
   "file_extension": ".py",
   "mimetype": "text/x-python",
   "name": "python",
   "nbconvert_exporter": "python",
   "pygments_lexer": "ipython3",
   "version": "3.11.7"
  }
 },
 "nbformat": 4,
 "nbformat_minor": 5
}
